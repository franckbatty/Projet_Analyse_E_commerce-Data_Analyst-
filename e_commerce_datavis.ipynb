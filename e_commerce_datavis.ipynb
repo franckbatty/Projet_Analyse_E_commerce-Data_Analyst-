{
 "cells": [
  {
   "cell_type": "markdown",
   "id": "87c4b5de",
   "metadata": {},
   "source": [
    "Importation des packages necessaires"
   ]
  },
  {
   "cell_type": "code",
   "execution_count": 27,
   "id": "a8cc8aa8",
   "metadata": {},
   "outputs": [],
   "source": [
    "from pathlib import Path\n",
    "from collections import Counter, defaultdict\n",
    "import json\n",
    "import time\n",
    "import pandas as pd"
   ]
  },
  {
   "cell_type": "code",
   "execution_count": 28,
   "id": "a69f964d",
   "metadata": {},
   "outputs": [],
   "source": [
    "# Dossiers\n",
    "output_dir = Path(\"output\")\n",
    "output_dir.mkdir(exist_ok=True)"
   ]
  },
  {
   "cell_type": "code",
   "execution_count": 29,
   "id": "a71638c3",
   "metadata": {},
   "outputs": [
    {
     "name": "stdout",
     "output_type": "stream",
     "text": [
      "Initialisation de e_commerceConfig : URL de base = https://projet-backend-e-commerce-1.onrender.com\n"
     ]
    }
   ],
   "source": [
    "from e_commerce_franck_sdk import E_commerceClient, E_commerceConfig\n",
    "\n",
    "\n",
    "config = E_commerceConfig(e_commerce_base_url=\"https://projet-backend-e-commerce-1.onrender.com\")\n",
    "client = E_commerceClient(config=config)"
   ]
  },
  {
   "cell_type": "code",
   "execution_count": 30,
   "id": "390398c7",
   "metadata": {},
   "outputs": [
    {
     "data": {
      "text/plain": [
       "{'message': 'API E_commerce opérationnelle'}"
      ]
     },
     "execution_count": 30,
     "metadata": {},
     "output_type": "execute_result"
    }
   ],
   "source": [
    "# Santé de l'API\n",
    "client.health_check()"
   ]
  },
  {
   "cell_type": "code",
   "execution_count": 31,
   "id": "f3aba7bd",
   "metadata": {},
   "outputs": [
    {
     "data": {
      "text/plain": [
       "Analytics(ventes_count=130, clients_count=1000, produits_count=130, commandes_count=1000)"
      ]
     },
     "execution_count": 31,
     "metadata": {},
     "output_type": "execute_result"
    }
   ],
   "source": [
    "# Requête pour récupérer les données d'analyse\n",
    "analytics=client.get_analytics()\n",
    "analytics"
   ]
  },
  {
   "cell_type": "code",
   "execution_count": 32,
   "id": "1c629e0c",
   "metadata": {},
   "outputs": [
    {
     "data": {
      "text/plain": [
       "ClientDimBase(id_client=9, nom='Doxsey', prenom='Sacha', gender='Female', email='sdoxsey8@topsy.com', telephone='151-749-2308', adresse='80 SUGAR CREEK CENTER BLVD.')"
      ]
     },
     "execution_count": 32,
     "metadata": {},
     "output_type": "execute_result"
    }
   ],
   "source": [
    "client.get_client(9)"
   ]
  },
  {
   "cell_type": "code",
   "execution_count": 33,
   "id": "ba593609",
   "metadata": {},
   "outputs": [
    {
     "data": {
      "text/html": [
       "<div>\n",
       "<style scoped>\n",
       "    .dataframe tbody tr th:only-of-type {\n",
       "        vertical-align: middle;\n",
       "    }\n",
       "\n",
       "    .dataframe tbody tr th {\n",
       "        vertical-align: top;\n",
       "    }\n",
       "\n",
       "    .dataframe thead th {\n",
       "        text-align: right;\n",
       "    }\n",
       "</style>\n",
       "<table border=\"1\" class=\"dataframe\">\n",
       "  <thead>\n",
       "    <tr style=\"text-align: right;\">\n",
       "      <th></th>\n",
       "      <th>id_client</th>\n",
       "      <th>nom</th>\n",
       "      <th>prenom</th>\n",
       "      <th>gender</th>\n",
       "      <th>email</th>\n",
       "      <th>telephone</th>\n",
       "      <th>adresse</th>\n",
       "    </tr>\n",
       "  </thead>\n",
       "  <tbody>\n",
       "    <tr>\n",
       "      <th>0</th>\n",
       "      <td>6</td>\n",
       "      <td>Allery</td>\n",
       "      <td>Celestia</td>\n",
       "      <td>Female</td>\n",
       "      <td>callery5@hugedomains.com</td>\n",
       "      <td>125-956-5543</td>\n",
       "      <td>245 COMMERCIAL STREET</td>\n",
       "    </tr>\n",
       "    <tr>\n",
       "      <th>1</th>\n",
       "      <td>7</td>\n",
       "      <td>Daudray</td>\n",
       "      <td>Laraine</td>\n",
       "      <td>Female</td>\n",
       "      <td>ldaudray6@timesonline.co.uk</td>\n",
       "      <td>496-578-9242</td>\n",
       "      <td>15 SAMMY MCGHEE BLVD</td>\n",
       "    </tr>\n",
       "    <tr>\n",
       "      <th>2</th>\n",
       "      <td>8</td>\n",
       "      <td>Vasyutochkin</td>\n",
       "      <td>Merilyn</td>\n",
       "      <td>Female</td>\n",
       "      <td>mvasyutochkin7@instagram.com</td>\n",
       "      <td>410-138-4409</td>\n",
       "      <td>200 WEST CONGRESS STREET</td>\n",
       "    </tr>\n",
       "    <tr>\n",
       "      <th>3</th>\n",
       "      <td>9</td>\n",
       "      <td>Doxsey</td>\n",
       "      <td>Sacha</td>\n",
       "      <td>Female</td>\n",
       "      <td>sdoxsey8@topsy.com</td>\n",
       "      <td>151-749-2308</td>\n",
       "      <td>80 SUGAR CREEK CENTER BLVD.</td>\n",
       "    </tr>\n",
       "    <tr>\n",
       "      <th>4</th>\n",
       "      <td>10</td>\n",
       "      <td>Callacher</td>\n",
       "      <td>Susanna</td>\n",
       "      <td>Female</td>\n",
       "      <td>scallacher9@newsvine.com</td>\n",
       "      <td>949-482-6904</td>\n",
       "      <td>4140 EAST STATE STREET</td>\n",
       "    </tr>\n",
       "    <tr>\n",
       "      <th>...</th>\n",
       "      <td>...</td>\n",
       "      <td>...</td>\n",
       "      <td>...</td>\n",
       "      <td>...</td>\n",
       "      <td>...</td>\n",
       "      <td>...</td>\n",
       "      <td>...</td>\n",
       "    </tr>\n",
       "    <tr>\n",
       "      <th>95</th>\n",
       "      <td>100</td>\n",
       "      <td>Sommerland</td>\n",
       "      <td>Aksel</td>\n",
       "      <td>Male</td>\n",
       "      <td>asommerland2r@ezinearticles.com</td>\n",
       "      <td>251-876-8204</td>\n",
       "      <td>NY-31-17-0119</td>\n",
       "    </tr>\n",
       "    <tr>\n",
       "      <th>96</th>\n",
       "      <td>101</td>\n",
       "      <td>Gavagan</td>\n",
       "      <td>Madella</td>\n",
       "      <td>Female</td>\n",
       "      <td>mgavagan2s@constantcontact.com</td>\n",
       "      <td>100-653-8426</td>\n",
       "      <td>PIAZZA FILIPPO MEDA 4</td>\n",
       "    </tr>\n",
       "    <tr>\n",
       "      <th>97</th>\n",
       "      <td>102</td>\n",
       "      <td>Coade</td>\n",
       "      <td>Dwain</td>\n",
       "      <td>Male</td>\n",
       "      <td>dcoade2t@csmonitor.com</td>\n",
       "      <td>283-421-1991</td>\n",
       "      <td>Herzog-Ernst-Ring 49</td>\n",
       "    </tr>\n",
       "    <tr>\n",
       "      <th>98</th>\n",
       "      <td>103</td>\n",
       "      <td>Letrange</td>\n",
       "      <td>Amby</td>\n",
       "      <td>Male</td>\n",
       "      <td>aletrange2u@adobe.com</td>\n",
       "      <td>731-138-6487</td>\n",
       "      <td>275 SOUTHWEST THIRD STREET</td>\n",
       "    </tr>\n",
       "    <tr>\n",
       "      <th>99</th>\n",
       "      <td>104</td>\n",
       "      <td>McNeilley</td>\n",
       "      <td>Conrade</td>\n",
       "      <td>Autres</td>\n",
       "      <td>cmcneilley2v@feedburner.com</td>\n",
       "      <td>209-849-8588</td>\n",
       "      <td>1508 TEXAS AVENUE</td>\n",
       "    </tr>\n",
       "  </tbody>\n",
       "</table>\n",
       "<p>100 rows × 7 columns</p>\n",
       "</div>"
      ],
      "text/plain": [
       "    id_client           nom    prenom  gender  \\\n",
       "0           6        Allery  Celestia  Female   \n",
       "1           7       Daudray   Laraine  Female   \n",
       "2           8  Vasyutochkin   Merilyn  Female   \n",
       "3           9        Doxsey     Sacha  Female   \n",
       "4          10     Callacher   Susanna  Female   \n",
       "..        ...           ...       ...     ...   \n",
       "95        100    Sommerland     Aksel    Male   \n",
       "96        101       Gavagan   Madella  Female   \n",
       "97        102         Coade     Dwain    Male   \n",
       "98        103      Letrange      Amby    Male   \n",
       "99        104     McNeilley   Conrade  Autres   \n",
       "\n",
       "                              email     telephone                      adresse  \n",
       "0          callery5@hugedomains.com  125-956-5543        245 COMMERCIAL STREET  \n",
       "1       ldaudray6@timesonline.co.uk  496-578-9242         15 SAMMY MCGHEE BLVD  \n",
       "2      mvasyutochkin7@instagram.com  410-138-4409     200 WEST CONGRESS STREET  \n",
       "3                sdoxsey8@topsy.com  151-749-2308  80 SUGAR CREEK CENTER BLVD.  \n",
       "4          scallacher9@newsvine.com  949-482-6904       4140 EAST STATE STREET  \n",
       "..                              ...           ...                          ...  \n",
       "95  asommerland2r@ezinearticles.com  251-876-8204                NY-31-17-0119  \n",
       "96   mgavagan2s@constantcontact.com  100-653-8426        PIAZZA FILIPPO MEDA 4  \n",
       "97           dcoade2t@csmonitor.com  283-421-1991         Herzog-Ernst-Ring 49  \n",
       "98            aletrange2u@adobe.com  731-138-6487   275 SOUTHWEST THIRD STREET  \n",
       "99      cmcneilley2v@feedburner.com  209-849-8588            1508 TEXAS AVENUE  \n",
       "\n",
       "[100 rows x 7 columns]"
      ]
     },
     "execution_count": 33,
     "metadata": {},
     "output_type": "execute_result"
    }
   ],
   "source": [
    "client.list_clients(5, output_format=\"pandas\")"
   ]
  },
  {
   "cell_type": "markdown",
   "id": "a201f766",
   "metadata": {},
   "source": [
    "AVEC SYSTEME DE MISE EN CACHE"
   ]
  },
  {
   "cell_type": "code",
   "execution_count": 34,
   "id": "c2d15468",
   "metadata": {},
   "outputs": [
    {
     "data": {
      "text/plain": [
       "Analytics(ventes_count=130, clients_count=1000, produits_count=130, commandes_count=1000)"
      ]
     },
     "execution_count": 34,
     "metadata": {},
     "output_type": "execute_result"
    }
   ],
   "source": [
    "analytics"
   ]
  },
  {
   "cell_type": "markdown",
   "id": "046fe1ef",
   "metadata": {},
   "source": [
    "Données de Ventes"
   ]
  },
  {
   "cell_type": "code",
   "execution_count": 55,
   "id": "052a18fe",
   "metadata": {},
   "outputs": [
    {
     "name": "stdout",
     "output_type": "stream",
     "text": [
      "Nombre total de ventes dans l'API : 130\n",
      "Mise à jour des données depuis l'API...\n",
      "Fichier CSV sauvegardé avec succès.\n",
      "   id_commande  id_client  id_produit  quantite_totale  vente_totale\n",
      "0            9          9           9              655       2833.47\n",
      "1           19         19          19              473       1265.40\n",
      "2           35         35          35              924       8759.21\n",
      "3           45         45          45              501       2122.33\n",
      "4           52         52          52                7       8551.37\n"
     ]
    }
   ],
   "source": [
    "####### Avec Système de mise en cache #########\n",
    "\n",
    "# Récupération du nombre total de ventes depuis l'API\n",
    "api_ventes_count = analytics.ventes_count\n",
    "print(f\"Nombre total de ventes dans l'API : {api_ventes_count}\")\n",
    "\n",
    "ventes_data_file = output_dir / \"ventes_df.csv\"\n",
    "meta_file = output_dir / \"meta_ventes.json\"\n",
    "\n",
    "# Lecture du fichier méta s'il existe\n",
    "if meta_file.exists():\n",
    "    with open(meta_file, \"r\") as f:\n",
    "        meta = json.load(f)\n",
    "    cache_ventes_count = meta.get(\"ventes_count\", 0)\n",
    "else:\n",
    "    meta = {}\n",
    "    cache_ventes_count = 0\n",
    "\n",
    "# Décision : utiliser le cache ou recalculer\n",
    "if ventes_data_file.exists() and cache_ventes_count == api_ventes_count:\n",
    "    print(\"Chargement des données depuis le cache...\")\n",
    "    ventes_df = pd.read_csv(ventes_data_file)\n",
    "else:\n",
    "    print(\"Mise à jour des données depuis l'API...\")\n",
    "\n",
    "    # MODIFICATION PRINCIPALE : récupération directe en DataFrame\n",
    "    ventes_df = client.list_ventes(limit=api_ventes_count, output_format=\"pandas\")\n",
    "\n",
    "    # Sauvegarde des données et du fichier méta\n",
    "    ventes_df.to_csv(ventes_data_file, index=False)\n",
    "    with open(meta_file, \"w\") as f:\n",
    "        json.dump({\"ventes_count\": api_ventes_count}, f)\n",
    "\n",
    "    print(\"Fichier CSV sauvegardé avec succès.\")\n",
    "\n",
    "# Aperçu\n",
    "print(ventes_df.head())\n"
   ]
  },
  {
   "cell_type": "code",
   "execution_count": 48,
   "id": "a3bbecf7",
   "metadata": {},
   "outputs": [
    {
     "name": "stdout",
     "output_type": "stream",
     "text": [
      "<class 'pandas.core.frame.DataFrame'>\n",
      "RangeIndex: 130 entries, 0 to 129\n",
      "Data columns (total 5 columns):\n",
      " #   Column           Non-Null Count  Dtype  \n",
      "---  ------           --------------  -----  \n",
      " 0   id_commande      130 non-null    int64  \n",
      " 1   id_client        130 non-null    int64  \n",
      " 2   id_produit       130 non-null    int64  \n",
      " 3   quantite_totale  130 non-null    int64  \n",
      " 4   vente_totale     130 non-null    float64\n",
      "dtypes: float64(1), int64(4)\n",
      "memory usage: 5.2 KB\n"
     ]
    }
   ],
   "source": [
    "ventes_df.info()"
   ]
  },
  {
   "cell_type": "code",
   "execution_count": 49,
   "id": "3f2caa57",
   "metadata": {},
   "outputs": [
    {
     "data": {
      "text/plain": [
       "id_commande        0\n",
       "id_client          0\n",
       "id_produit         0\n",
       "quantite_totale    0\n",
       "vente_totale       0\n",
       "dtype: int64"
      ]
     },
     "execution_count": 49,
     "metadata": {},
     "output_type": "execute_result"
    }
   ],
   "source": [
    "ventes_df.isnull().sum()"
   ]
  },
  {
   "cell_type": "markdown",
   "id": "dac070ee",
   "metadata": {},
   "source": [
    "Données de Clients"
   ]
  },
  {
   "cell_type": "code",
   "execution_count": 50,
   "id": "763e0325",
   "metadata": {},
   "outputs": [
    {
     "data": {
      "text/plain": [
       "1000"
      ]
     },
     "execution_count": 50,
     "metadata": {},
     "output_type": "execute_result"
    }
   ],
   "source": [
    "analytics.clients_count"
   ]
  },
  {
   "cell_type": "code",
   "execution_count": null,
   "id": "e2c58c0f",
   "metadata": {},
   "outputs": [],
   "source": [
    "####### Avec Système de mise en cache #########\n",
    "\n",
    "# Récupération du nombre total de clients depuis l'API\n",
    "api_clients_count = analytics.clients_count\n",
    "print(f\"Nombre total de clients dans l'API : {api_clients_count}\")\n",
    "\n",
    "clients_data_file = output_dir / \"clients_df.csv\"\n",
    "meta_file = output_dir / \"meta_clients.json\"\n",
    "\n",
    "# Lecture du fichier méta s'il existe\n",
    "if meta_file.exists():\n",
    "    with open(meta_file, \"r\") as f:\n",
    "        meta = json.load(f)\n",
    "    cache_clients_count = meta.get(\"clients_count\", 0)\n",
    "else:\n",
    "    meta = {}\n",
    "    cache_clients_count = 0\n",
    "\n",
    "# Décision : utiliser le cache ou recalculer\n",
    "if clients_data_file.exists() and cache_clients_count == api_clients_count:\n",
    "    print(\"Chargement des données depuis le cache...\")\n",
    "    clients_df = pd.read_csv(clients_data_file)\n",
    "else:\n",
    "    print(\"Mise à jour des données depuis l'API...\")\n",
    "\n",
    "    # Paramètres pour le batching\n",
    "    limit = 100\n",
    "    skip = 0\n",
    "    clients_rows = []\n",
    "\n",
    "    while True:\n",
    "        try:\n",
    "            batch = client.list_clients(skip=skip, limit=limit, output_format=\"dict\")\n",
    "        except Exception as e:\n",
    "            print(f\"Erreur à skip={skip} : {e}. Nouvelle tentative dans 5 secondes...\")\n",
    "            time.sleep(5)\n",
    "            continue\n",
    "\n",
    "        if not batch:\n",
    "            break\n",
    "\n",
    "        clients_rows.extend(batch)\n",
    "        skip += limit\n",
    "        time.sleep(0.5)  # Pour respecter l’API\n",
    "\n",
    "    # Création du DataFrame\n",
    "    clients_df = pd.DataFrame(clients_rows)\n",
    "\n",
    "    # Sauvegarde des données et du fichier méta\n",
    "    clients_df.to_csv(clients_data_file, index=False)\n",
    "    with open(meta_file, \"w\") as f:\n",
    "        json.dump({\"clients_count\": api_clients_count}, f)\n",
    "\n",
    "    print(\"Fichier CSV sauvegardé avec succès.\")\n",
    "\n"
   ]
  },
  {
   "cell_type": "code",
   "execution_count": 57,
   "id": "0e98de2e",
   "metadata": {},
   "outputs": [
    {
     "data": {
      "text/html": [
       "<div>\n",
       "<style scoped>\n",
       "    .dataframe tbody tr th:only-of-type {\n",
       "        vertical-align: middle;\n",
       "    }\n",
       "\n",
       "    .dataframe tbody tr th {\n",
       "        vertical-align: top;\n",
       "    }\n",
       "\n",
       "    .dataframe thead th {\n",
       "        text-align: right;\n",
       "    }\n",
       "</style>\n",
       "<table border=\"1\" class=\"dataframe\">\n",
       "  <thead>\n",
       "    <tr style=\"text-align: right;\">\n",
       "      <th></th>\n",
       "      <th>id_client</th>\n",
       "      <th>nom</th>\n",
       "      <th>prenom</th>\n",
       "      <th>gender</th>\n",
       "      <th>email</th>\n",
       "      <th>telephone</th>\n",
       "      <th>adresse</th>\n",
       "    </tr>\n",
       "  </thead>\n",
       "  <tbody>\n",
       "    <tr>\n",
       "      <th>0</th>\n",
       "      <td>1</td>\n",
       "      <td>Juan</td>\n",
       "      <td>Monti</td>\n",
       "      <td>Male</td>\n",
       "      <td>mjuan0@cnn.com</td>\n",
       "      <td>365-532-8326</td>\n",
       "      <td>Rosenstraße 2</td>\n",
       "    </tr>\n",
       "    <tr>\n",
       "      <th>1</th>\n",
       "      <td>2</td>\n",
       "      <td>Blampey</td>\n",
       "      <td>Bobby</td>\n",
       "      <td>Male</td>\n",
       "      <td>bblampey1@bigcartel.com</td>\n",
       "      <td>428-681-3229</td>\n",
       "      <td>Market Street, Dundalk,</td>\n",
       "    </tr>\n",
       "    <tr>\n",
       "      <th>2</th>\n",
       "      <td>3</td>\n",
       "      <td>Bleue</td>\n",
       "      <td>Glory</td>\n",
       "      <td>Female</td>\n",
       "      <td>gbleue2@weibo.com</td>\n",
       "      <td>235-182-7891</td>\n",
       "      <td>260, Okolovrasten Pat Blvd.</td>\n",
       "    </tr>\n",
       "    <tr>\n",
       "      <th>3</th>\n",
       "      <td>4</td>\n",
       "      <td>Van der Baaren</td>\n",
       "      <td>Rooney</td>\n",
       "      <td>Male</td>\n",
       "      <td>rvanderbaaren3@salon.com</td>\n",
       "      <td>537-745-0007</td>\n",
       "      <td>4140 EAST STATE STREET</td>\n",
       "    </tr>\n",
       "    <tr>\n",
       "      <th>4</th>\n",
       "      <td>5</td>\n",
       "      <td>Wynne</td>\n",
       "      <td>Ninette</td>\n",
       "      <td>Female</td>\n",
       "      <td>nwynne4@samsung.com</td>\n",
       "      <td>872-153-3637</td>\n",
       "      <td>Burgstraße 1</td>\n",
       "    </tr>\n",
       "  </tbody>\n",
       "</table>\n",
       "</div>"
      ],
      "text/plain": [
       "   id_client             nom   prenom  gender                     email  \\\n",
       "0          1            Juan    Monti    Male            mjuan0@cnn.com   \n",
       "1          2         Blampey    Bobby    Male   bblampey1@bigcartel.com   \n",
       "2          3           Bleue    Glory  Female         gbleue2@weibo.com   \n",
       "3          4  Van der Baaren   Rooney    Male  rvanderbaaren3@salon.com   \n",
       "4          5           Wynne  Ninette  Female       nwynne4@samsung.com   \n",
       "\n",
       "      telephone                      adresse  \n",
       "0  365-532-8326                Rosenstraße 2  \n",
       "1  428-681-3229      Market Street, Dundalk,  \n",
       "2  235-182-7891  260, Okolovrasten Pat Blvd.  \n",
       "3  537-745-0007       4140 EAST STATE STREET  \n",
       "4  872-153-3637                 Burgstraße 1  "
      ]
     },
     "execution_count": 57,
     "metadata": {},
     "output_type": "execute_result"
    }
   ],
   "source": [
    "# Aperçu\n",
    "clients_df.head()"
   ]
  },
  {
   "cell_type": "markdown",
   "id": "1505fe04",
   "metadata": {},
   "source": [
    "Données Produits"
   ]
  },
  {
   "cell_type": "code",
   "execution_count": 60,
   "id": "f73ebaec",
   "metadata": {},
   "outputs": [
    {
     "data": {
      "text/html": [
       "<div>\n",
       "<style scoped>\n",
       "    .dataframe tbody tr th:only-of-type {\n",
       "        vertical-align: middle;\n",
       "    }\n",
       "\n",
       "    .dataframe tbody tr th {\n",
       "        vertical-align: top;\n",
       "    }\n",
       "\n",
       "    .dataframe thead th {\n",
       "        text-align: right;\n",
       "    }\n",
       "</style>\n",
       "<table border=\"1\" class=\"dataframe\">\n",
       "  <thead>\n",
       "    <tr style=\"text-align: right;\">\n",
       "      <th></th>\n",
       "      <th>id_produit</th>\n",
       "      <th>nom</th>\n",
       "      <th>categorie</th>\n",
       "    </tr>\n",
       "  </thead>\n",
       "  <tbody>\n",
       "    <tr>\n",
       "      <th>0</th>\n",
       "      <td>9</td>\n",
       "      <td>Electric Wax Warmer</td>\n",
       "      <td>Maison</td>\n",
       "    </tr>\n",
       "    <tr>\n",
       "      <th>1</th>\n",
       "      <td>19</td>\n",
       "      <td>Hand Crank Blender</td>\n",
       "      <td>Cuisine</td>\n",
       "    </tr>\n",
       "    <tr>\n",
       "      <th>2</th>\n",
       "      <td>35</td>\n",
       "      <td>Non-Stick Grill Pan</td>\n",
       "      <td>Cuisine</td>\n",
       "    </tr>\n",
       "    <tr>\n",
       "      <th>3</th>\n",
       "      <td>45</td>\n",
       "      <td>Scented Soy Candles</td>\n",
       "      <td>Maison</td>\n",
       "    </tr>\n",
       "    <tr>\n",
       "      <th>4</th>\n",
       "      <td>52</td>\n",
       "      <td>Luxury Memory Foam Mattress Topper</td>\n",
       "      <td>Maison</td>\n",
       "    </tr>\n",
       "  </tbody>\n",
       "</table>\n",
       "</div>"
      ],
      "text/plain": [
       "   id_produit                                 nom categorie\n",
       "0           9                 Electric Wax Warmer    Maison\n",
       "1          19                  Hand Crank Blender   Cuisine\n",
       "2          35                 Non-Stick Grill Pan   Cuisine\n",
       "3          45                 Scented Soy Candles    Maison\n",
       "4          52  Luxury Memory Foam Mattress Topper    Maison"
      ]
     },
     "execution_count": 60,
     "metadata": {},
     "output_type": "execute_result"
    }
   ],
   "source": [
    "client.list_produits(output_format=\"pandas\").head()"
   ]
  },
  {
   "cell_type": "code",
   "execution_count": 61,
   "id": "d68c9256",
   "metadata": {},
   "outputs": [
    {
     "data": {
      "text/plain": [
       "(100, 3)"
      ]
     },
     "execution_count": 61,
     "metadata": {},
     "output_type": "execute_result"
    }
   ],
   "source": [
    "client.list_produits(output_format=\"pandas\").shape"
   ]
  },
  {
   "cell_type": "code",
   "execution_count": 63,
   "id": "91acc4b1",
   "metadata": {},
   "outputs": [
    {
     "name": "stdout",
     "output_type": "stream",
     "text": [
      "Nombre total de produits dans l'API : 130\n",
      "Mise à jour des données depuis l'API...\n",
      "Fichier CSV sauvegardé avec succès.\n"
     ]
    }
   ],
   "source": [
    "####### Avec Système de mise en cache #########\n",
    "\n",
    "# Récupération du nombre total de produits depuis l'API \n",
    "api_produits_count = analytics.produits_count\n",
    "print(f\"Nombre total de produits dans l'API : {api_produits_count}\")\n",
    "\n",
    "produits_data_file = output_dir / \"produits_df.csv\"\n",
    "meta_file = output_dir / \"meta_produits.json\"\n",
    "\n",
    "# Lecture du fichier méta s'il existe\n",
    "if meta_file.exists():\n",
    "    with open(meta_file, \"r\") as f:\n",
    "        meta = json.load(f)\n",
    "    cache_produits_count = meta.get(\"produits_count\", 0)\n",
    "else:\n",
    "    meta = {}\n",
    "    cache_produits_count = 0\n",
    "\n",
    "# Décision : utiliser le cache ou recalculer\n",
    "if produits_data_file.exists() and cache_produits_count == api_produits_count:\n",
    "    print(\"Chargement des données depuis le cache...\")\n",
    "    produits_df = pd.read_csv(produits_data_file)\n",
    "else:\n",
    "    print(\"Mise à jour des données depuis l'API...\")\n",
    "\n",
    "    # Paramètres pour le batching\n",
    "    limit = 50\n",
    "    skip = 0\n",
    "    produits_rows = []\n",
    "\n",
    "    while True:\n",
    "        try:\n",
    "            batch = client.list_produits(skip=skip, limit=limit, output_format=\"dict\")\n",
    "        except Exception as e:\n",
    "            print(f\"Erreur à skip={skip} : {e}. Nouvelle tentative dans 5 secondes...\")\n",
    "            time.sleep(5)\n",
    "            continue\n",
    "\n",
    "        if not batch:\n",
    "            break\n",
    "\n",
    "        produits_rows.extend(batch)\n",
    "        skip += limit\n",
    "        time.sleep(0.5)  # Pour respecter l’API\n",
    "\n",
    "    # Création du DataFrame\n",
    "    produits_df = pd.DataFrame(produits_rows)\n",
    "\n",
    "    # Sauvegarde des données et du fichier méta\n",
    "    produits_df.to_csv(produits_data_file, index=False)\n",
    "    with open(meta_file, \"w\") as f:\n",
    "        json.dump({\"produits_count\": api_produits_count}, f)\n",
    "\n",
    "    print(\"Fichier CSV sauvegardé avec succès.\")\n",
    "\n"
   ]
  },
  {
   "cell_type": "markdown",
   "id": "1478384c",
   "metadata": {},
   "source": [
    "Données Commandes"
   ]
  },
  {
   "cell_type": "code",
   "execution_count": 64,
   "id": "d63f4914",
   "metadata": {},
   "outputs": [
    {
     "data": {
      "text/plain": [
       "1000"
      ]
     },
     "execution_count": 64,
     "metadata": {},
     "output_type": "execute_result"
    }
   ],
   "source": [
    "analytics.commandes_count"
   ]
  },
  {
   "cell_type": "code",
   "execution_count": 65,
   "id": "e76e1acb",
   "metadata": {},
   "outputs": [
    {
     "data": {
      "text/html": [
       "<div>\n",
       "<style scoped>\n",
       "    .dataframe tbody tr th:only-of-type {\n",
       "        vertical-align: middle;\n",
       "    }\n",
       "\n",
       "    .dataframe tbody tr th {\n",
       "        vertical-align: top;\n",
       "    }\n",
       "\n",
       "    .dataframe thead th {\n",
       "        text-align: right;\n",
       "    }\n",
       "</style>\n",
       "<table border=\"1\" class=\"dataframe\">\n",
       "  <thead>\n",
       "    <tr style=\"text-align: right;\">\n",
       "      <th></th>\n",
       "      <th>id_commande</th>\n",
       "      <th>date_commande</th>\n",
       "      <th>statut</th>\n",
       "    </tr>\n",
       "  </thead>\n",
       "  <tbody>\n",
       "    <tr>\n",
       "      <th>0</th>\n",
       "      <td>1</td>\n",
       "      <td>2021-07-31 00:00:00</td>\n",
       "      <td>annulee</td>\n",
       "    </tr>\n",
       "    <tr>\n",
       "      <th>1</th>\n",
       "      <td>2</td>\n",
       "      <td>2021-06-24 00:00:00</td>\n",
       "      <td>annulee</td>\n",
       "    </tr>\n",
       "    <tr>\n",
       "      <th>2</th>\n",
       "      <td>3</td>\n",
       "      <td>2021-12-01 00:00:00</td>\n",
       "      <td>annulee</td>\n",
       "    </tr>\n",
       "    <tr>\n",
       "      <th>3</th>\n",
       "      <td>4</td>\n",
       "      <td>2020-12-28 00:00:00</td>\n",
       "      <td>expediee</td>\n",
       "    </tr>\n",
       "    <tr>\n",
       "      <th>4</th>\n",
       "      <td>5</td>\n",
       "      <td>2022-04-18 00:00:00</td>\n",
       "      <td>en attente</td>\n",
       "    </tr>\n",
       "  </tbody>\n",
       "</table>\n",
       "</div>"
      ],
      "text/plain": [
       "   id_commande        date_commande      statut\n",
       "0            1  2021-07-31 00:00:00     annulee\n",
       "1            2  2021-06-24 00:00:00     annulee\n",
       "2            3  2021-12-01 00:00:00     annulee\n",
       "3            4  2020-12-28 00:00:00    expediee\n",
       "4            5  2022-04-18 00:00:00  en attente"
      ]
     },
     "execution_count": 65,
     "metadata": {},
     "output_type": "execute_result"
    }
   ],
   "source": [
    "client.list_commandes(output_format=\"pandas\").head()"
   ]
  },
  {
   "cell_type": "code",
   "execution_count": 66,
   "id": "b79d7fc0",
   "metadata": {},
   "outputs": [
    {
     "name": "stdout",
     "output_type": "stream",
     "text": [
      "Nombre total de commandes dans l'API : 1000\n",
      "Mise à jour des données depuis l'API...\n",
      "Fichier CSV sauvegardé avec succès.\n"
     ]
    }
   ],
   "source": [
    "####### Avec Système de mise en cache #########\n",
    "\n",
    "# Récupération du nombre total de commandes depuis l'API \n",
    "api_commandes_count = analytics.commandes_count\n",
    "print(f\"Nombre total de commandes dans l'API : {api_commandes_count}\")\n",
    "\n",
    "commandes_data_file = output_dir / \"commandes_df.csv\"\n",
    "meta_file = output_dir / \"meta_commandes.json\"\n",
    "\n",
    "# Lecture du fichier méta s'il existe\n",
    "if meta_file.exists():\n",
    "    with open(meta_file, \"r\") as f:\n",
    "        meta = json.load(f)\n",
    "    cache_commandes_count = meta.get(\"commandes_count\", 0)\n",
    "else:\n",
    "    meta = {}\n",
    "    cache_commandes_count = 0\n",
    "\n",
    "# Décision : utiliser le cache ou recalculer\n",
    "if commandes_data_file.exists() and cache_commandes_count == api_commandes_count:\n",
    "    print(\"Chargement des données depuis le cache...\")\n",
    "    commandes_df = pd.read_csv(commandes_data_file)\n",
    "else:\n",
    "    print(\"Mise à jour des données depuis l'API...\")\n",
    "\n",
    "    # Paramètres pour le batching\n",
    "    limit = 50\n",
    "    skip = 0\n",
    "    commandes_rows = []\n",
    "\n",
    "    while True:\n",
    "        try:\n",
    "            batch = client.list_commandes(skip=skip, limit=limit, output_format=\"dict\")\n",
    "        except Exception as e:\n",
    "            print(f\"Erreur à skip={skip} : {e}. Nouvelle tentative dans 5 secondes...\")\n",
    "            time.sleep(5)\n",
    "            continue\n",
    "\n",
    "        if not batch:\n",
    "            break\n",
    "\n",
    "        commandes_rows.extend(batch)\n",
    "        skip += limit\n",
    "        time.sleep(0.5)  # Pour respecter l’API\n",
    "\n",
    "    # Création du DataFrame\n",
    "    commandes_df = pd.DataFrame(commandes_rows)\n",
    "\n",
    "    # Sauvegarde des données et du fichier méta\n",
    "    commandes_df.to_csv(commandes_data_file, index=False)\n",
    "    with open(meta_file, \"w\") as f:\n",
    "        json.dump({\"commandes_count\": api_commandes_count}, f)\n",
    "\n",
    "    print(\"Fichier CSV sauvegardé avec succès.\")\n",
    "\n"
   ]
  },
  {
   "cell_type": "code",
   "execution_count": 67,
   "id": "caaee3e1",
   "metadata": {},
   "outputs": [
    {
     "data": {
      "text/html": [
       "<div>\n",
       "<style scoped>\n",
       "    .dataframe tbody tr th:only-of-type {\n",
       "        vertical-align: middle;\n",
       "    }\n",
       "\n",
       "    .dataframe tbody tr th {\n",
       "        vertical-align: top;\n",
       "    }\n",
       "\n",
       "    .dataframe thead th {\n",
       "        text-align: right;\n",
       "    }\n",
       "</style>\n",
       "<table border=\"1\" class=\"dataframe\">\n",
       "  <thead>\n",
       "    <tr style=\"text-align: right;\">\n",
       "      <th></th>\n",
       "      <th>id_commande</th>\n",
       "      <th>date_commande</th>\n",
       "      <th>statut</th>\n",
       "    </tr>\n",
       "  </thead>\n",
       "  <tbody>\n",
       "    <tr>\n",
       "      <th>0</th>\n",
       "      <td>1</td>\n",
       "      <td>2021-07-31 00:00:00</td>\n",
       "      <td>annulee</td>\n",
       "    </tr>\n",
       "    <tr>\n",
       "      <th>1</th>\n",
       "      <td>2</td>\n",
       "      <td>2021-06-24 00:00:00</td>\n",
       "      <td>annulee</td>\n",
       "    </tr>\n",
       "    <tr>\n",
       "      <th>2</th>\n",
       "      <td>3</td>\n",
       "      <td>2021-12-01 00:00:00</td>\n",
       "      <td>annulee</td>\n",
       "    </tr>\n",
       "    <tr>\n",
       "      <th>3</th>\n",
       "      <td>4</td>\n",
       "      <td>2020-12-28 00:00:00</td>\n",
       "      <td>expediee</td>\n",
       "    </tr>\n",
       "    <tr>\n",
       "      <th>4</th>\n",
       "      <td>5</td>\n",
       "      <td>2022-04-18 00:00:00</td>\n",
       "      <td>en attente</td>\n",
       "    </tr>\n",
       "  </tbody>\n",
       "</table>\n",
       "</div>"
      ],
      "text/plain": [
       "   id_commande        date_commande      statut\n",
       "0            1  2021-07-31 00:00:00     annulee\n",
       "1            2  2021-06-24 00:00:00     annulee\n",
       "2            3  2021-12-01 00:00:00     annulee\n",
       "3            4  2020-12-28 00:00:00    expediee\n",
       "4            5  2022-04-18 00:00:00  en attente"
      ]
     },
     "execution_count": 67,
     "metadata": {},
     "output_type": "execute_result"
    }
   ],
   "source": [
    "commandes_df.head()"
   ]
  },
  {
   "cell_type": "code",
   "execution_count": 68,
   "id": "58f0c320",
   "metadata": {},
   "outputs": [
    {
     "data": {
      "text/plain": [
       "id_commande      0\n",
       "date_commande    0\n",
       "statut           0\n",
       "dtype: int64"
      ]
     },
     "execution_count": 68,
     "metadata": {},
     "output_type": "execute_result"
    }
   ],
   "source": [
    "commandes_df.isnull().sum()"
   ]
  },
  {
   "cell_type": "code",
   "execution_count": 69,
   "id": "413eb25d",
   "metadata": {},
   "outputs": [
    {
     "name": "stdout",
     "output_type": "stream",
     "text": [
      "<class 'pandas.core.frame.DataFrame'>\n",
      "RangeIndex: 1000 entries, 0 to 999\n",
      "Data columns (total 3 columns):\n",
      " #   Column         Non-Null Count  Dtype \n",
      "---  ------         --------------  ----- \n",
      " 0   id_commande    1000 non-null   int64 \n",
      " 1   date_commande  1000 non-null   object\n",
      " 2   statut         1000 non-null   object\n",
      "dtypes: int64(1), object(2)\n",
      "memory usage: 23.6+ KB\n"
     ]
    }
   ],
   "source": [
    "commandes_df.info()"
   ]
  },
  {
   "cell_type": "code",
   "execution_count": 70,
   "id": "5a73cf84",
   "metadata": {},
   "outputs": [
    {
     "data": {
      "text/plain": [
       "np.int64(0)"
      ]
     },
     "execution_count": 70,
     "metadata": {},
     "output_type": "execute_result"
    }
   ],
   "source": [
    "commandes_df.duplicated().sum()"
   ]
  }
 ],
 "metadata": {
  "kernelspec": {
   "display_name": ".venv",
   "language": "python",
   "name": "python3"
  },
  "language_info": {
   "codemirror_mode": {
    "name": "ipython",
    "version": 3
   },
   "file_extension": ".py",
   "mimetype": "text/x-python",
   "name": "python",
   "nbconvert_exporter": "python",
   "pygments_lexer": "ipython3",
   "version": "3.10.9"
  }
 },
 "nbformat": 4,
 "nbformat_minor": 5
}
